{
  "cells": [
    {
      "cell_type": "markdown",
      "metadata": {
        "id": "ASheyhasa7js"
      },
      "source": [
        "1. What is a RESTful API ?\n",
        " - A RESTful API is a web service that follows the principles of Representational State Transfer. It uses HTTP methods (GET, POST, PUT, DELETE) to perform operations on resources (data). The key principles include:\n",
        "\n",
        "1.Stateless: Each request is independent and contains all necessary information.\n",
        "\n",
        "2.Client-Server: The client and server are separate.\n",
        "\n",
        "3.Uniform Interface: Consistent methods for interacting with resources.\n",
        "\n",
        "4.Resource-Based: Data is accessed via unique URLs.\n",
        "\n",
        "5.Representation: Data is returned in formats like JSON or XML.\n",
        "\n"
      ]
    },
    {
      "cell_type": "markdown",
      "metadata": {
        "id": "bW2DF9EEcF5x"
      },
      "source": [
        "2.  Explain the concept of API specification?\n",
        "- 1.Endpoints: Define the URLs where API functions can be accessed (e.g., /users).\n",
        "\n",
        "- 2.HTTP Methods: Specifies actions (GET, POST, PUT, DELETE) for interacting with endpoints.\n",
        "\n",
        "- 3.Request Parameters: Inputs the API expects, like query strings or body data (e.g., page=2).\n",
        "\n",
        "- 4.Request Body: Data sent in methods like POST/PUT (e.g., user details in JSON format).\n",
        "\n",
        "- 5.Response Format: Structure of data returned by the API (usually JSON or XML).\n",
        "\n",
        "- 7.Status Codes: HTTP codes (e.g., 200 OK, 404 Not Found) indicate the result of the request.\n",
        "\n",
        "- 8.Authentication: Describes how users authenticate (e.g., API keys or OAuth tokens).\n",
        "\n",
        "- 9.Error Handling: Explains common errors and how to handle them.\n",
        "\n",
        "- 10.Versioning: Ensures API updates don't break compatibility (e.g., /v1, /v2)."
      ]
    },
    {
      "cell_type": "markdown",
      "metadata": {
        "id": "-NHVjGEXFAhz"
      },
      "source": [
        "3.  What is Flask, and why is it popular for building APIs?\n",
        "- 1.Minimalist and Lightweight: Flask is a simple framework with minimal overhead, allowing quick API development.\n",
        "\n",
        "- 2.Flexibility: It offers freedom to choose components, making it adaptable for different projects.\n",
        "\n",
        "- 3.Extensible: You can easily add features like authentication or databases via extensions.\n",
        "\n",
        "- 4.Simplicity: Flask’s Pythonic syntax makes it beginner-friendly and easy to learn.\n",
        "\n",
        "- 5.Great Documentation: Detailed docs help developers quickly understand and use Flask.\n",
        "\n",
        "- 6.Community Support: A large, active community offers resources and support.\n",
        "\n",
        "- 7.RESTful Design: Ideal for building REST APIs with straightforward routing.\n",
        "\n",
        "- 8.Database Integration: Easily integrates with databases, especially using ORMs like SQLAlchemy.\n",
        "\n",
        "- 9.Asynchronous Support: Can handle async requests for scalable, real-time applications."
      ]
    },
    {
      "cell_type": "markdown",
      "metadata": {
        "id": "DL6Yg5M2JRd_"
      },
      "source": [
        "4.  What is routing in Flask?\n",
        "  - Routing in Flask refers to the process of mapping a URL (or endpoint) to a specific function in the application. When a request is made to a particular URL, the associated function is executed, and a response is returned to the client. This is done using the @app.route() decorator in Flask.\n",
        "\n",
        "\n",
        "\n"
      ]
    },
    {
      "cell_type": "markdown",
      "metadata": {
        "id": "GqTYL1NFKQIx"
      },
      "source": [
        "5. How do you create a simple Flask application?\n",
        "- 1.Install Flask: Run pip install Flask to install Flask.\n",
        "- 2.Create a Python file: Create a file, e.g., app.py.\n",
        "- 3.Write code:\n",
        "   - Import Flask: from flask import Flask.\n",
        "   - Create a Flask app instance: app = Flask(__name__).\n",
        "   - Define a route (URL endpoint): @app.route('/') maps to the home function.\n",
        "   - The function returns a response, e.g., return \"Hello, World!\".\n",
        "- 4.Run the app: Add app.run(debug=True) to run the app locally.\n",
        "- 5.Access the app: Go to http://127.0.0.1:5000/ in your browser to see the output.\n"
      ]
    },
    {
      "cell_type": "markdown",
      "metadata": {
        "id": "tYOqqP6L1mpY"
      },
      "source": [
        "6.  What are HTTP methods used in RESTful APIs?\n",
        "- 1. GET:\n",
        " - Retrieve data from the server.\n",
        " - Idempotent: Yes.\n",
        "\n",
        "- 2.POST:\n",
        "  - Create a new resource.\n",
        "  - Idempotent: No.\n",
        "\n",
        "- 3.PUT:\n",
        "  - Update or create a resource.\n",
        "  - Idempotent: Yes.\n",
        "\n",
        "- 4.PATCH:\n",
        " - Partially update a resource.\n",
        " - Idempotent: Yes (usually).\n",
        "\n",
        "- 5.DELETE:\n",
        " - Delete a resource.\n",
        " - Idempotent: Yes.\n",
        "\n",
        "- 6.OPTIONS:\n",
        " - Retrieve allowed HTTP methods for a resource.\n",
        " - Idempotent: Yes.\n",
        "\n",
        "- 7.HEAD:\n",
        " - Retrieve headers (no body).\n",
        " - Idempotent: Yes.\n"
      ]
    },
    {
      "cell_type": "markdown",
      "metadata": {
        "id": "BWXhG37zwv3Q"
      },
      "source": [
        "7.  What is the purpose of the @app.route() decorator in Flask?\n",
        " - Map URLs to Functions: It connects a specific URL or endpoint to a function, which is called when the URL is accessed.\n",
        "Handle Requests: It allows the app to respond to incoming HTTP requests (like GET or POST) by executing the associated function.\n",
        "Define Routes: It defines which view (function) should be triggered for each URL in the web application.\n"
      ]
    },
    {
      "cell_type": "markdown",
      "metadata": {
        "id": "lLU0dri8zPga"
      },
      "source": [
        "8.  What is the difference between GET and POST HTTP methods?\n",
        "  - The difference between the GET and POST HTTP methods lies in how they are used to send data and their intended purposes:\n",
        "\n",
        "- 1. GET Method:\n",
        " - Purpose: Used to request data from a server.\n",
        " - Data Transmission: Sends data in the URL (query string).\n",
        " - Visibility: Data sent is visible in the URL (e.g., example.com/page?name=John&age=25).\n",
        " - Caching: GET requests can be cached by browsers and servers.\n",
        " - Length: Limited by the maximum URL length (typically 2048 characters).\n",
        " - Idempotent: GET requests are idempotent, meaning they should not change the server's state (they are meant for retrieval, not for actions that modify data).\n",
        " - Use Case: Fetching data from the server, such as retrieving a webpage or querying a search engine.\n",
        "- 2. POST Method:\n",
        " - Purpose: Used to send data to the server to be processed (often used for -\n",
        "  - submitting forms or sending large data).\n",
        " - Data Transmission: Sends data in the body of the request (not in the URL).\n",
        " - Visibility: Data is not visible in the URL, making it more secure for sensitive information.\n",
        " - Caching: POST requests are not cached by browsers by default.\n",
        " - Length: There is no significant limit on the amount of data you can send (the limit depends on the server settings).\n",
        " - Idempotent: POST requests are not idempotent; they can change the server's state (e.g., creating a new record in a database or making a purchase).\n",
        " - Use Case: Submitting forms (e.g., login, registration), uploading files, or sending large amounts of data to the server for processing."
      ]
    },
    {
      "cell_type": "markdown",
      "metadata": {
        "id": "QsUi7nuD0pJg"
      },
      "source": [
        "9.  How do you handle errors in Flask APIs?\n",
        "- 1.Error Handlers with @app.errorhandler(): Customize error responses by using the @app.errorhandler() decorator for specific HTTP errors (e.g., 404).\n",
        "\n",
        "- 2.Using abort(): Trigger specific HTTP errors manually with the abort() function (e.g., abort(404)).\n",
        "\n",
        "- 3.Custom Error Responses: Create custom error classes and handle them with Flask’s @app.errorhandler().\n",
        "\n",
        "- 4.Validation Errors (with Marshmallow): Handle validation errors gracefully using Marshmallow's load() method with try-except blocks to catch validation exceptions.\n",
        "\n",
        "- 5.Global Error Handling with Hooks: Use before_request and after_request for logic around request processing, and teardown_request for handling errors after requests.\n",
        "\n",
        "- 6.Try-Except for Specific Errors: Use try-except blocks in route functions to catch and handle specific exceptions (e.g., ZeroDivisionError, ValueError).\n",
        "\n",
        "- 7.Custom JSON Error Responses: Create consistent, custom error formats by defining a global error handler for exceptions."
      ]
    },
    {
      "cell_type": "markdown",
      "metadata": {
        "id": "zVfupY021lEi"
      },
      "source": [
        "10.  How do you connect Flask to a SQL database?\n",
        "  - To connect Flask to a SQL database, you typically use a library like SQLAlchemy, which is an Object Relational Mapper (ORM) that makes working with databases easier by allowing you to interact with the database using Python objects. Here’s a step-by-step guide to connect Flask to a SQL database using Flask-SQLAlchemy:\n",
        "\n",
        "Step 1: Install Flask-SQLAlchemy\n",
        "First, you need to install Flask-SQLAlchemy. You can do this with pip:\n",
        "\n",
        "Step 2: Initialize Flask and Flask-SQLAlchemy\n",
        "Next, create a basic Flask application and initialize Flask-SQLAlchemy. Here’s an example:\n",
        "\n",
        "Step 3: Define Your Database Model\n",
        "Now, define your database models as Python classes. These classes will map to tables in your SQL database. Here’s an example model:\n",
        "\n",
        "Step 4: Create the Database\n",
        "To create the database and tables, you need to run the following command in the Python shell or in your Flask app:\n",
        "\n",
        "Step 5: Interact with the Database\n",
        "You can now interact with the database by querying it or inserting data. Here are some examples:\n",
        "\n",
        "Step 6: Running the Flask App\n",
        "Finally, run the Flask app:"
      ]
    },
    {
      "cell_type": "markdown",
      "metadata": {
        "id": "smVxjrBS4llR"
      },
      "source": [
        "11.  What is the role of Flask-SQLAlchemy?\n",
        "  - Flask-SQLAlchemy is an extension for Flask that simplifies the integration of SQLAlchemy with Flask applications. It provides a set of tools and helpers to make it easier to work with relational databases in Flask. Here's a breakdown of its role:\n",
        "\n",
        "- 1.Database Integration: Flask-SQLAlchemy provides an easy way to integrate a SQL database (like SQLite, MySQL, or PostgreSQL) with a Flask application.\n",
        "\n",
        "- 2.Object Relational Mapping (ORM): It simplifies the use of SQLAlchemy's ORM, allowing you to map Python classes to database tables. This means you can interact with your database using Python objects instead of raw SQL queries, making your code cleaner and easier to maintain.\n",
        "\n",
        "- 3.Database Sessions: It handles the database session for you, making it simpler to perform CRUD (Create, Read, Update, Delete) operations on your models.\n",
        "\n",
        "- 4.Configuration: Flask-SQLAlchemy automatically configures the connection to the database based on the Flask app's configuration, making setup straightforward."
      ]
    },
    {
      "cell_type": "markdown",
      "metadata": {
        "id": "mgKudMiY62Vq"
      },
      "source": [
        "12.  What are Flask blueprints, and how are they useful?\n",
        "  - Definition:\n",
        "Flask Blueprints are a way to organize and structure your Flask application by allowing you to define application components (such as routes, views, templates, static files, etc.) in modular pieces. A blueprint is like a template for how parts of the app should work. You can think of it as a way to break your app into smaller, reusable, and manageable sections.\n",
        "\n",
        "Uses of Flask Blueprints:\n",
        "\n",
        "- 1.Modularity:\n",
        "Blueprints help break the application into smaller, modular components, making it easier to manage different features (e.g., user authentication, admin dashboard, blog) independently.\n",
        "\n",
        "- 2.Reusability:\n",
        "Blueprints make it easier to reuse code across different projects or applications. For example, you can create a blueprint for authentication that can be used in multiple Flask apps.\n",
        "\n",
        "- 3.Organizing Routes:\n",
        "You can organize routes (URLs) into separate blueprints based on the functionality they provide. For example, you can have a blueprint for all routes related to user profiles and another for blog-related routes.\n",
        "Separation of Concerns:\n",
        "\n",
        "- 4.Blueprints help to separate the concerns of the application into different sections, such as admin, user management, or public pages, making it easier to manage and understand the app’s structure.\n",
        "Collaboration:\n",
        "\n",
        "- 5.When working in a team, different developers can work on different blueprints simultaneously, which helps speed up development and reduces conflicts.\n",
        "Easier Testing:\n",
        "\n",
        "- 6.By testing each blueprint separately, you can isolate components and test them independently, making your testing process more efficient.;"
      ]
    },
    {
      "cell_type": "markdown",
      "metadata": {
        "id": "Iuu6JSkf-K7c"
      },
      "source": [
        "13. What is the purpose of Flask's request object?\n",
        "  - The purpose of Flask's request object is to encapsulate all the information that comes from an incoming HTTP request. It allows you to access details like:\n",
        "\n",
        "- Form data: Data submitted via HTML forms (e.g., request.form).\n",
        "- Query parameters: Parameters passed in the URL (e.g., request.args).\n",
        "- JSON data: Data sent as JSON in the body of the request (e.g., request.get_json()).\n",
        "- Headers: Information about the HTTP request itself (e.g., request.headers).\n",
        "- Files: Files uploaded through the request (e.g., request.files).\n",
        "- Cookies: Cookies sent with the request (e.g., request.cookies)."
      ]
    },
    {
      "cell_type": "markdown",
      "metadata": {
        "id": "8HkrVPqhG5bI"
      },
      "source": [
        " 14. How do you create a RESTful API endpoint using Flask?\n",
        "  - To create a RESTful API endpoint using Flask:\n",
        "\n",
        "1.Install Flask: Install Flask with pip install Flask.\n",
        "\n",
        "2.Create a Flask app: Write a Python script (e.g., app.py) and import Flask. Initialize the Flask app.\n",
        "\n",
        "3.Define endpoints:\n",
        "\n",
        "  - Use @app.route() to create API routes for different HTTP methods (GET, POST, PUT, DELETE).\n",
        "\n",
        "  - For each endpoint, write a function that returns JSON responses using jsonify().\n",
        "\n",
        "4.Run the app: Start the server using app.run().\n",
        "\n",
        "Example endpoints:\n",
        "  - GET /tasks: List all tasks.\n",
        "\n",
        "  - POST /tasks: Add a new task (expects JSON).\n",
        "\n",
        "  - GET /tasks/<task_id>: Fetch a task by ID.\n",
        "\n",
        "  - PUT /tasks/<task_id>: Update a task.\n",
        "\n",
        "  - DELETE /tasks/<task_id>: Delete a task."
      ]
    },
    {
      "cell_type": "markdown",
      "metadata": {
        "id": "AVjpL38C7i5O"
      },
      "source": [
        "15. What is the purpose of Flask's jsonify() function\n",
        " - Flask's jsonify() function is used to convert Python data structures (such as dictionaries, lists, etc.) into JSON format and send them as HTTP responses. It helps in returning JSON-formatted responses from Flask routes, making it easier to work with APIs and handle data exchange in a standard, readable format.\n",
        "\n",
        "Here's a breakdown of its main purposes:\n",
        "\n",
        "1.Converts Python objects to JSON: jsonify() takes Python data (like a dictionary or list) and converts it into a valid JSON response.\n",
        "\n",
        "2.Sets the correct MIME type: It automatically sets the Content-Type of the response to application/json, indicating that the response body contains JSON data.\n",
        "\n",
        "3.Handles response creation: jsonify() creates a Response object, so you don't need to manually deal with response headers and encoding."
      ]
    },
    {
      "cell_type": "markdown",
      "metadata": {
        "id": "MHc-y8Qv8eXy"
      },
      "source": [
        "16. Explain Flask’s url_for() function?\n",
        "- url_for() helps generate the correct URLs for Flask routes dynamically.\n",
        "\n",
        "- It promotes maintainability and flexibility by using route function names instead of hardcoding URLs.\n",
        "\n",
        "- It can handle dynamic URL parameters, making it very useful for generating URLs in your Flask applications.\n",
        "\n",
        "Benefits of url_for():\n",
        "\n",
        "1.Dynamic URLs: If the URL of a route changes, url_for() will automatically generate the correct URL, meaning you don’t have to manually update each place the URL is used.\n",
        "\n",
        "2.Reverse URL Resolution: Flask will resolve the URL based on the route's function name, even if the actual URL path changes.\n",
        "\n",
        "3.Support for Dynamic Route Parameters: If a route includes dynamic parameters (like variables in the URL), url_for() can also generate those correctly."
      ]
    },
    {
      "cell_type": "markdown",
      "metadata": {
        "id": "-G_hmKMiAd4P"
      },
      "source": [
        "17.  How does Flask handle static files (CSS, JavaScript, etc.)?\n",
        " - 1.Static Folder: Flask serves static files (like CSS, JavaScript, images) from a folder called static by default.\n",
        "\n",
        " - 2.File Access in Templates: You access static files in templates using the url_for('static', filename='path/to/file') function.\n",
        "\n",
        " - 3.Example URL: Static files are served from URLs like /static/css/style.css or /static/js/script.js.\n",
        "\n",
        " - 4.Customization: You can customize the static folder's location using the static_folder parameter when initializing the Flask app.\n",
        "\n",
        " - 5.Production: For large static files, it’s better to use a web server (e.g., Nginx) to handle them in a production environment."
      ]
    },
    {
      "cell_type": "markdown",
      "metadata": {
        "id": "AFsPbF4MDPgb"
      },
      "source": [
        "18.  What is an API specification, and how does it help in building a Flask API?\n",
        " - Defination :- An API specification is a detailed description of how an API should behave, outlining endpoints, request/response formats, and interactions between client and server. It serves as a blueprint for developing, using, and testing an API.\n",
        "\n",
        "How It Helps in Building a Flask API:\n",
        "\n",
        "- 1.Defines Endpoints: Specifies routes (e.g., GET /users, POST /users), HTTP methods, and expected responses.\n",
        "\n",
        "- 2.Clarifies Input/Output: Describes the format of request data (e.g., JSON, query parameters) and the structure of the responses.\n",
        "\n",
        "- 3.Ensures Consistency: Standardizes API behavior, ensuring all team members follow the same structure.\n",
        "\n",
        "- 4.Improves Documentation: Provides clear documentation, making it easier for developers to understand and use the API.\n",
        "\n",
        "- 5.Facilitates Testing: Helps automate testing by defining expected inputs, outputs, and error responses.\n",
        "\n",
        "- 6.Helps Versioning: Tracks changes over time, ensuring backward compatibility.\n",
        "\n",
        "- 7.Streamlines Development: Improves collaboration between front-end and back-end developers by providing a clear contract.\n"
      ]
    },
    {
      "cell_type": "markdown",
      "metadata": {
        "id": "QIQ9isOngGmP"
      },
      "source": [
        "19.  What are HTTP status codes, and why are they important in a Flask API?\n",
        "- What are HTTP Status Codes?\n",
        " - Three-digit numbers returned by a server in response to an HTTP request.\n",
        "\n",
        " - Indicate the result of the request (success, failure, etc.).\n",
        "\n",
        "- Types of HTTP Status Codes:\n",
        "- 1.2xx (Successful): The request was successful.\n",
        "\n",
        "  - Example: 200 OK, 201 Created.\n",
        "\n",
        "- 2.3xx (Redirection): The client needs to take additional action (e.g., following a redirect).\n",
        "\n",
        "  - Example: 301 Moved Permanently, 302 Found.\n",
        "\n",
        "- 3.4xx (Client Error): The request is incorrect or invalid.\n",
        "\n",
        "  - Example: 400 Bad Request, 404 Not Found, 401 Unauthorized.\n",
        "\n",
        "- 4.5xx (Server Error): The server encountered an error while processing the request.\n",
        "\n",
        "  - Example: 500 Internal Server Error, 503 Service Unavailable.\n",
        "\n",
        "- Why HTTP Status Codes are Important in Flask API:\n",
        "  - Communication: Clearly indicate whether a request was successful or encountered an error.\n",
        "\n",
        "  - Error Handling: Help identify and debug client or server-side issues.\n",
        "\n",
        "  - Automation: Enable clients to handle different cases (e.g., retry, show error messages).\n",
        "\n",
        "  - RESTful API: Ensure compliance with REST standards, making the API predictable."
      ]
    },
    {
      "cell_type": "markdown",
      "metadata": {
        "id": "L-4NuduGlX6e"
      },
      "source": [
        "20.  How do you handle POST requests in Flask.?\n",
        "- Handling POST Requests in Flask\n",
        "When you're building an API or a web service with Flask, you'll often need to handle POST requests. A POST request sends data from the client (like a browser or mobile app) to the server, which typically involves creating or updating a resource on the server.\n",
        "\n",
        "In Flask, you define routes for handling specific HTTP methods like GET, POST, PUT, etc., using the @app.route() decorator.\n",
        "\n",
        "- Key Concepts in Flask for Handling POST Requests\n",
        "\n",
        "  - @app.route() Decorator: This is used to bind a function to a specific URL pattern. You can specify the methods that the route should handle, like GET, POST, or both.\n",
        "\n",
        "  - request Object: The request object in Flask is used to access data sent in the HTTP request, including form data, JSON payloads, query parameters, etc.\n",
        "\n",
        "  - Response Object: After processing a POST request, you need to send a response back to the client. You can use Flask's jsonify() function to send a JSON response or return raw data with status codes."
      ]
    },
    {
      "cell_type": "markdown",
      "metadata": {
        "id": "PKCWvdN1otqX"
      },
      "source": [
        "21.  How would you secure a Flask API?\n",
        "- 1.Use HTTPS: Secure communication by enabling SSL/TLS.\n",
        "\n",
        "- 2.Authentication: Use JWT or OAuth2 for secure user authentication and authorization.\n",
        "\n",
        "- 3.API Keys: Validate API keys for access control.\n",
        "\n",
        "- 4.Rate Limiting: Prevent abuse with Flask-Limiter to limit requests per user.\n",
        "\n",
        "- 5.Input Validation: Sanitize user input to prevent SQL Injection and XSS.\n",
        "\n",
        "- 6.Cross-Origin Resource Sharing (CORS): Control access from other domains using Flask-CORS.\n",
        "\n",
        "- 7.Logging & Monitoring: Implement logging and use tools like Sentry for security alerts.\n",
        "\n",
        "- 8.Error Handling: Avoid detailed error messages in production; use custom error pages.\n",
        "\n",
        "- 9.Content Security Policy (CSP): Set a strict CSP to prevent malicious content loading.\n",
        "\n",
        "- 10.Session Management: Secure session cookies and use server-side session storage (Flask-Session).\n",
        "\n",
        "- 11.Database Security: Use ORM (SQLAlchemy) to prevent SQL injection and keep your DB updated.\n",
        "\n",
        "- 12.Update Dependencies: Regularly update libraries and monitor for vulnerabilities.\n"
      ]
    },
    {
      "cell_type": "markdown",
      "metadata": {
        "id": "-2mKmtjlrcBc"
      },
      "source": [
        "22. What is the significance of the Flask-RESTful extension?\n",
        "- 1.Simplified API Creation: Defines resources and HTTP methods using classes.\n",
        "\n",
        "- 2.Resource-based Design: Follows RESTful principles with clear URL mappings.\n",
        "\n",
        "- 3.Input Parsing: Easy handling of request data (e.g., JSON).\n",
        "\n",
        "- 4.Automatic JSON Response: Formats responses as JSON by default.\n",
        "\n",
        "- 5.Error Handling: Centralized, consistent error response formatting.\n",
        "\n",
        "- 6.Seamless Flask Integration: Easily integrates with Flask app logic.\n",
        "\n",
        "- 7.Support for HTTP Methods: Handles GET, POST, PUT, DELETE.\n",
        "\n",
        "- 8.Serialization & Documentation: Tools for data serialization and API documentation"
      ]
    },
    {
      "cell_type": "markdown",
      "metadata": {
        "id": "LA4KA9P1tUbc"
      },
      "source": [
        "23.  What is the role of Flask’s session object??\n",
        " - 1.Stores User Data: Maintains data between requests (e.g., login info, preferences).\n",
        "\n",
        "- 2.Secure Cookies: Data is stored in cookies, signed for integrity.\n",
        "\n",
        "- 3.Session Lifetime: Data persists until the session ends (browser closed or timeout).\n",
        "\n",
        "- 4.Dictionary-like: Accessed like a Python dictionary (e.g., session['key']).\n",
        "\n",
        "- 5.Configurable: Settings like timeout and storage can be customized."
      ]
    },
    {
      "cell_type": "code",
      "execution_count": null,
      "metadata": {
        "colab": {
          "background_save": true,
          "base_uri": "https://localhost:8080/"
        },
        "id": "7kQ0bAjBNEWf",
        "outputId": "64bcb5b5-9724-4637-ca83-46270e95255f"
      },
      "outputs": [
        {
          "name": "stdout",
          "output_type": "stream",
          "text": [
            " * Serving Flask app '__main__'\n",
            " * Debug mode: on\n"
          ]
        },
        {
          "name": "stderr",
          "output_type": "stream",
          "text": [
            "INFO:werkzeug:\u001b[31m\u001b[1mWARNING: This is a development server. Do not use it in a production deployment. Use a production WSGI server instead.\u001b[0m\n",
            " * Running on http://127.0.0.1:5000\n",
            "INFO:werkzeug:\u001b[33mPress CTRL+C to quit\u001b[0m\n",
            "INFO:werkzeug: * Restarting with stat\n"
          ]
        }
      ],
      "source": [
        "from flask import Flask\n",
        "\n",
        "app = Flask(__name__)\n",
        "\n",
        "@app.route('/')\n",
        "def home():\n",
        "    return \"Hello, Flask!\"\n",
        "\n",
        "if __name__ == '__main__':\n",
        "    app.run(debug=True)\n"
      ]
    },
    {
      "cell_type": "code",
      "execution_count": null,
      "metadata": {
        "id": "QOa8bVEGtkOI"
      },
      "outputs": [],
      "source": [
        "# Serving Static Files in Flask\n",
        "\n",
        "from flask import Flask, send_from_directory\n",
        "\n",
        "app = Flask(__name__)\n",
        "\n",
        "@app.route('/static/<path:filename>')\n",
        "def serve_static(filename):\n",
        "    return send_from_directory('static', filename)\n",
        "\n",
        "if __name__ == '__main__':\n",
        "    app.run(debug=True)\n"
      ]
    },
    {
      "cell_type": "code",
      "execution_count": null,
      "metadata": {
        "id": "teXs074Lt2UT"
      },
      "outputs": [],
      "source": [
        "# Flask Routes with Different HTTP Methods\n",
        "\n",
        "from flask import Flask, request\n",
        "\n",
        "app = Flask(__name__)\n",
        "\n",
        "@app.route('/example', methods=['GET'])\n",
        "def get_example():\n",
        "    return \"This is a GET request\"\n",
        "\n",
        "@app.route('/example', methods=['POST'])\n",
        "def post_example():\n",
        "    data = request.json\n",
        "    return f\"This is a POST request with data: {data}\"\n",
        "\n",
        "@app.route('/example/<int:id>', methods=['PUT'])\n",
        "def put_example(id):\n",
        "    data = request.json\n",
        "    return f\"This is a PUT request for ID {id} with data: {data}\"\n",
        "\n",
        "@app.route('/example/<int:id>', methods=['DELETE'])\n",
        "def delete_example(id):\n",
        "    return f\"This is a DELETE request for ID {id}\"\n",
        "\n",
        "if __name__ == '__main__':\n",
        "    app.run(debug=True)\n"
      ]
    },
    {
      "cell_type": "code",
      "execution_count": null,
      "metadata": {
        "id": "7jYED6UbusfC"
      },
      "outputs": [],
      "source": [
        "# Rendering HTML Templates in Flask\n",
        "\n",
        "from flask import Flask, render_template\n",
        "\n",
        "app = Flask(__name__)\n",
        "\n",
        "@app.route('/')\n",
        "def home():\n",
        "    return render_template('index.html')\n",
        "\n",
        "if __name__ == '__main__':\n",
        "    app.run(debug=True)\n"
      ]
    },
    {
      "cell_type": "code",
      "execution_count": null,
      "metadata": {
        "id": "vbZcTfb1uxTk"
      },
      "outputs": [],
      "source": [
        "[5from flask import Flask, url_for\n",
        "\n",
        "app = Flask(__name__)\n",
        "\n",
        "@app.route('/')\n",
        "def home():\n",
        "    return 'Home Page'\n",
        "\n",
        "@app.route('/about')\n",
        "def about():\n",
        "    return 'About Page'\n",
        "\n",
        "with app.test_request_context():\n",
        "    print(url_for('home'))  # Output: /\n",
        "    print(url_for('about'))  # Output: /about\n",
        "]"
      ]
    },
    {
      "cell_type": "code",
      "execution_count": null,
      "metadata": {
        "id": "VfoeR9s7wnbw"
      },
      "outputs": [],
      "source": [
        "from flask import Flask, render_template, request, redirect, url_for\n",
        "\n",
        "app = Flask(__name__)\n",
        "\n",
        "class MyForm(FlaskForm):\n",
        "    name = StringField('Name', validators=[DataRequired()])\n",
        "    email = StringField('Email', validators=[DataRequired(), Email()])\n",
        "    submit = SubmitField('Submit')\n",
        "\n",
        "@app.route('/form', methods=['GET', 'POST'])\n",
        "def form():\n",
        "    form = MyForm()\n",
        "    if form.validate_on_submit():\n",
        "        # Process the data\n",
        "        return redirect(url_for('success'))\n",
        "    return render_template('form.html', form=form)\n",
        "\n",
        "@app.route('/success')\n",
        "def success():\n",
        "    return \"Form submitted successfully!\"\n",
        "\n",
        "if __name__ == '__main__':\n",
        "    app.run(debug=True)\n"
      ]
    },
    {
      "cell_type": "code",
      "execution_count": null,
      "metadata": {
        "id": "wo5vVhQoxD8z"
      },
      "outputs": [],
      "source": [
        "# Validating Form Data in Flask\n",
        "\n",
        "from flask import Flask, request, render_template, redirect, url_for, flash\n",
        "from flask_wtf import FlaskForm\n",
        "from wtforms import StringField, PasswordField, SubmitField\n",
        "from wtforms.validators import DataRequired, Length, Email\n",
        "\n",
        "app = Flask(__name__)\n",
        "app.config['SECRET_KEY'] = 'your_secret_key'\n",
        "\n",
        "class LoginForm(FlaskForm):\n",
        "    email = StringField('Email', validators=[DataRequired(), Email()])\n",
        "    password = PasswordField('Password', validators=[DataRequired(), Length(min=6, max=35)])\n",
        "    submit = SubmitField('Login')\n",
        "\n",
        "@app.route('/login', methods=['GET', 'POST'])\n",
        "def login():\n",
        "    form = LoginForm()\n",
        "    if form.validate_on_submit():\n",
        "        # Process the validated data\n",
        "        flash('Login successful!', 'success')\n",
        "        return redirect(url_for('home'))\n",
        "    return render_template('login.html', form=form)\n",
        "\n",
        "@app.route('/home')\n",
        "def home():\n",
        "    return \"Welcome to the Home Page!\"\n",
        "\n",
        "if __name__ == '__main__':\n",
        "    app.run(debug=True)\n"
      ]
    },
    {
      "cell_type": "code",
      "execution_count": null,
      "metadata": {
        "id": "Az7kBFy4xS9f"
      },
      "outputs": [],
      "source": [
        "# Managing Sessions in Flask\n",
        "\n",
        "from flask import Flask, session\n",
        "\n",
        "app = Flask(__name__)\n",
        "app.secret_key = 'your_secret_key'\n",
        "\n",
        "@app.route('/')\n",
        "def index():\n",
        "    session['username'] = 'user1'\n",
        "    return 'Session created for user1'\n",
        "\n",
        "@app.route('/get_session')\n",
        "def get_session():\n",
        "    username = session.get('username', 'Not set')\n",
        "    return f'Current session username: {username}'\n",
        "\n",
        "@app.route('/clear_session')\n",
        "def clear_session():\n",
        "    session.pop('username', None)\n",
        "    return 'Session cleared'\n",
        "\n",
        "if __name__ == '__main__':\n",
        "    app.run(debug=True)\n"
      ]
    },
    {
      "cell_type": "code",
      "execution_count": null,
      "metadata": {
        "id": "ygZa_f63x1pQ"
      },
      "outputs": [],
      "source": [
        "# Redirecting to a Different Route in Flask\n",
        "\n",
        "from flask import Flask, redirect, url_for\n",
        "\n",
        "app = Flask(__name__)\n",
        "\n",
        "@app.route('/')\n",
        "def home():\n",
        "    return 'Welcome to the Home Page!'\n",
        "\n",
        "@app.route('/redirect')\n",
        "def redirect_to_home():\n",
        "    return redirect(url_for('home'))\n",
        "\n",
        "if __name__ == '__main__':\n",
        "    app.run(debug=True)\n"
      ]
    },
    {
      "cell_type": "code",
      "execution_count": null,
      "metadata": {
        "id": "hflzo3heyq54"
      },
      "outputs": [],
      "source": [
        "from flask import Flask, jsonify\n",
        "\n",
        "app = Flask(__name__)\n",
        "\n",
        "@app.errorhandler(404)\n",
        "def not_found(error):\n",
        "    return jsonify({\"error\": \"Not Found\", \"message\": \"The requested resource was not found.\"}), 404\n",
        "\n",
        "if __name__ == '__main__':\n",
        "    app.run(debug=True)\n"
      ]
    },
    {
      "cell_type": "code",
      "execution_count": null,
      "metadata": {
        "id": "tTA2BA9by1Ks"
      },
      "outputs": [],
      "source": [
        "# Flask App Structure with Blueprints\n",
        "\n",
        "from flask import Flask, Blueprint, render_template\n",
        "\n",
        "# Create a Blueprint\n",
        "main = Blueprint('main', __name__)\n",
        "\n",
        "@main.route('/')\n",
        "def home():\n",
        "    return render_template('home.html')\n",
        "\n",
        "@main.route('/about')\n",
        "def about():\n",
        "    return render_template('about.html')\n",
        "\n",
        "# Create the Flask app\n",
        "app = Flask(__name__)\n",
        "\n",
        "# Register the Blueprint\n",
        "app.register_blueprint(main)\n",
        "\n",
        "if __name__ == '__main__':\n",
        "    app.run(debug=True)\n"
      ]
    },
    {
      "cell_type": "code",
      "execution_count": null,
      "metadata": {
        "id": "UjgWvFeOzBIo"
      },
      "outputs": [],
      "source": [
        "from flask import Flask, render_template\n",
        "\n",
        "app = Flask(__name__)\n",
        "\n",
        "@app.template_filter('reverse')\n",
        "def reverse_filter(s):\n",
        "    return s[::-1]\n",
        "\n",
        "@app.route('/')\n",
        "def index():\n",
        "    return render_template('index.html', name='Flask')\n",
        "\n",
        "if __name__ == '__main__':\n",
        "    app.run(debug=True)\n"
      ]
    },
    {
      "cell_type": "code",
      "execution_count": null,
      "metadata": {
        "id": "CGo5Q0uszPyT"
      },
      "outputs": [],
      "source": [
        "from flask import Flask, render_template\n",
        "\n",
        "app = Flask(__name__)\n",
        "\n",
        "@app.template_filter('reverse')\n",
        "def reverse_filter(s):\n",
        "    return s[::-1]\n",
        "\n",
        "@app.route('/')\n",
        "def index():\n",
        "    return render_template('index.html', name='Flask')\n",
        "\n",
        "if __name__ == '__main__':\n",
        "    app.run(debug=True)\n"
      ]
    },
    {
      "cell_type": "code",
      "execution_count": null,
      "metadata": {
        "id": "-lSKWX7izfzC"
      },
      "outputs": [],
      "source": [
        "# Redirecting with Query Parameters in Flask\n",
        "\n",
        "from flask import Flask, redirect, request, url_for\n",
        "\n",
        "app = Flask(__name__)\n",
        "\n",
        "@app.route('/redirect_example')\n",
        "def redirect_example():\n",
        "    # Get query parameters\n",
        "    param1 = request.args.get('param1')\n",
        "    param2 = request.args.get('param2')\n",
        "\n",
        "    # Redirect to another route with query parameters\n",
        "    return redirect(url_for('target_route', param1=param1, param2=param2))\n",
        "\n",
        "@app.route('/target_route')\n",
        "def target_route():\n",
        "    param1 = request.args.get('param1')\n",
        "    param2 = request.args.get('param2')\n",
        "    return f'Received param1: {param1}, param2: {param2}'\n",
        "\n",
        "if __name__ == '__main__':\n",
        "    app.run(debug=True)\n"
      ]
    },
    {
      "cell_type": "code",
      "execution_count": null,
      "metadata": {
        "id": "1gQb0EyRzp8_"
      },
      "outputs": [],
      "source": [
        "from flask import Flask, jsonify\n",
        "\n",
        "app = Flask(__name__)\n",
        "\n",
        "@app.route('/api/data', methods=['GET'])\n",
        "def get_data():\n",
        "    data = {\n",
        "        'name': 'John Doe',\n",
        "        'age': 30,\n",
        "        'city': 'New York'\n",
        "    }\n",
        "    return jsonify(data)\n",
        "\n",
        "if __name__ == '__main__':\n",
        "    app.run(debug=True)\n"
      ]
    },
    {
      "cell_type": "code",
      "execution_count": null,
      "metadata": {
        "id": "hWtHhAHQzzlD"
      },
      "outputs": [],
      "source": [
        "# Capturing URL Parameters in Flask\n",
        "\n",
        "from flask import Flask, request\n",
        "\n",
        "app = Flask(__name__)\n",
        "\n",
        "@app.route('/user/<username>')\n",
        "def show_user_profile(username):\n",
        "    return f'User: {username}'\n",
        "\n",
        "@app.route('/post/<int:post_id>')\n",
        "def show_post(post_id):\n",
        "    return f'Post ID: {post_id}'\n",
        "\n",
        "@app.route('/search')\n",
        "def search():\n",
        "    query = request.args.get('query')\n",
        "    return f'Search results for: {query}'\n",
        "\n",
        "if __name__ == '__main__':\n",
        "    app.run(debug=True)\n"
      ]
    }
  ],
  "metadata": {
    "colab": {
      "provenance": []
    },
    "kernelspec": {
      "display_name": "Python 3",
      "name": "python3"
    },
    "language_info": {
      "name": "python"
    }
  },
  "nbformat": 4,
  "nbformat_minor": 0
}